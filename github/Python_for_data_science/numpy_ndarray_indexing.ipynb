{
 "cells": [
  {
   "cell_type": "code",
   "execution_count": 48,
   "metadata": {},
   "outputs": [
    {
     "name": "stdout",
     "output_type": "stream",
     "text": [
      "[[11 12 13 14]\n",
      " [21 22 23 24]\n",
      " [31 32 33 34]]\n"
     ]
    }
   ],
   "source": [
    "import numpy as np\n",
    "an_array=np.array([[11,12,13,14],[21,22,23,24],[31,32,33,34]])\n",
    "print(an_array)"
   ]
  },
  {
   "cell_type": "markdown",
   "metadata": {},
   "source": [
    "## Slicing of an Array"
   ]
  },
  {
   "cell_type": "code",
   "execution_count": 3,
   "metadata": {},
   "outputs": [
    {
     "name": "stdout",
     "output_type": "stream",
     "text": [
      "[[12 13]\n",
      " [22 23]]\n"
     ]
    }
   ],
   "source": [
    "a_slice=an_array[:2,1:3]\n",
    "print(a_slice)"
   ]
  },
  {
   "cell_type": "code",
   "execution_count": 7,
   "metadata": {},
   "outputs": [
    {
     "name": "stdout",
     "output_type": "stream",
     "text": [
      "10000\n",
      "[[   12 10000]\n",
      " [   22    23]]\n",
      "[[   11    12 10000    14]\n",
      " [   21    22    23    24]\n",
      " [   31    32    33    34]]\n"
     ]
    }
   ],
   "source": [
    "print(a_slice[0,1])\n",
    "a_slice[0,1]=10000\n",
    "print(a_slice)\n",
    "print(an_array) #change in the value of element in a_slice results in the change of value of element of an_array \n",
    "a_slice[0,1]=13"
   ]
  },
  {
   "cell_type": "code",
   "execution_count": 9,
   "metadata": {},
   "outputs": [
    {
     "name": "stdout",
     "output_type": "stream",
     "text": [
      "[[12 13]\n",
      " [22 23]]\n",
      "[[  12 1000]\n",
      " [  22   23]]\n",
      "[[11 12 13 14]\n",
      " [21 22 23 24]\n",
      " [31 32 33 34]]\n"
     ]
    }
   ],
   "source": [
    "a_slice=np.array(an_array[:2,1:3])     #we created a copy of the slice of an_array.So,now a_slice is just a reference.\n",
    "print(a_slice)\n",
    "a_slice[0,1]=1000\n",
    "print(a_slice)\n",
    "print(an_array)"
   ]
  },
  {
   "cell_type": "markdown",
   "metadata": {},
   "source": [
    "\n",
    "\n",
    "## USING BOTH INTEGER AND SLICE INDEXING \n",
    "We can use different integer and slice indexing so as to create new matrices from the existing one"
   ]
  },
  {
   "cell_type": "code",
   "execution_count": 18,
   "metadata": {},
   "outputs": [
    {
     "name": "stdout",
     "output_type": "stream",
     "text": [
      "[21 22 23 24] (4,)\n"
     ]
    }
   ],
   "source": [
    "#using both integer and slicing index produces lower rank matrices.\n",
    "row_rank1=an_array[1,:]\n",
    "\n",
    "print(row_rank1,row_rank1.shape)  #Here the rank of matrix is 1 "
   ]
  },
  {
   "cell_type": "code",
   "execution_count": 19,
   "metadata": {},
   "outputs": [
    {
     "name": "stdout",
     "output_type": "stream",
     "text": [
      "[[21 22 23 24]\n",
      " [31 32 33 34]] (2, 4)\n"
     ]
    }
   ],
   "source": [
    "#using slicing index produces matrix with same rank\n",
    "row_rank2=an_array[1:,:]\n",
    "print(row_rank2,row_rank2.shape) #Here the rank of matrix is 2"
   ]
  },
  {
   "cell_type": "code",
   "execution_count": 21,
   "metadata": {},
   "outputs": [
    {
     "name": "stdout",
     "output_type": "stream",
     "text": [
      "[12 22 32] (3,)\n",
      "[[12 13 14]\n",
      " [22 23 24]\n",
      " [32 33 34]] (3, 3)\n"
     ]
    }
   ],
   "source": [
    "#we can do the same thing for the columns\n",
    "row_rank1=an_array[:,1]     #Rank=1\n",
    "row_rank2=an_array[:,1:]    #Rank=2\n",
    "print(row_rank1,row_rank1.shape)\n",
    "print(row_rank2,row_rank2.shape)"
   ]
  },
  {
   "cell_type": "markdown",
   "metadata": {},
   "source": [
    "\n",
    "\n",
    "## ARRAY INDEXING FOR CHANGING ELEMENTS\n",
    "It's useful sometimes to access and change elements of an array using indices."
   ]
  },
  {
   "cell_type": "code",
   "execution_count": 29,
   "metadata": {},
   "outputs": [
    {
     "name": "stdout",
     "output_type": "stream",
     "text": [
      "[0 1 0]\n",
      "[0 1 2]\n",
      "0 , 0\n",
      "1 , 1\n",
      "2 , 0\n"
     ]
    }
   ],
   "source": [
    "#create an array of indices\n",
    "col_indices=np.array([0,1,0])     \n",
    "row_indices=np.arange(3)\n",
    "print(col_indices)\n",
    "print(row_indices)\n",
    "#find out the pairing of row and column indices\n",
    "for row,col in zip(row_indices,col_indices):\n",
    "    print(row,\",\",col)\n",
    "    \n"
   ]
  },
  {
   "cell_type": "code",
   "execution_count": 31,
   "metadata": {},
   "outputs": [
    {
     "name": "stdout",
     "output_type": "stream",
     "text": [
      "[11 22 31]\n"
     ]
    }
   ],
   "source": [
    "#select one element from each row.\n",
    "print(an_array[row_indices,col_indices])"
   ]
  },
  {
   "cell_type": "code",
   "execution_count": 49,
   "metadata": {},
   "outputs": [
    {
     "name": "stdout",
     "output_type": "stream",
     "text": [
      "Before: \n",
      " [[11 12 13 14]\n",
      " [21 22 23 24]\n",
      " [31 32 33 34]]\n",
      "After:\n",
      " [[100011     12     13     14]\n",
      " [    21 100022     23     24]\n",
      " [100031     32     33     34]]\n"
     ]
    }
   ],
   "source": [
    "#change the value of the elements selected\n",
    "print(\"Before: \\n\",an_array)\n",
    "an_array[row_indices,col_indices]+=100000\n",
    "print('After:\\n',an_array)\n",
    "\n",
    "\n"
   ]
  },
  {
   "cell_type": "markdown",
   "metadata": {},
   "source": [
    "\n",
    "# BOOLEAN INDEXING\n",
    "\n",
    "### ARRAY INDEXING FOR CHANGING VALUES"
   ]
  },
  {
   "cell_type": "code",
   "execution_count": 50,
   "metadata": {},
   "outputs": [
    {
     "name": "stdout",
     "output_type": "stream",
     "text": [
      "[[11 12]\n",
      " [21 22]\n",
      " [31 32]]\n"
     ]
    }
   ],
   "source": [
    "#create a 3x2 array\n",
    "an_array=np.array([[11,12],[21,22],[31,32]])\n",
    "print(an_array)"
   ]
  },
  {
   "cell_type": "code",
   "execution_count": 57,
   "metadata": {},
   "outputs": [
    {
     "data": {
      "text/plain": [
       "array([[False, False],\n",
       "       [ True,  True],\n",
       "       [ True,  True]])"
      ]
     },
     "execution_count": 57,
     "metadata": {},
     "output_type": "execute_result"
    }
   ],
   "source": [
    "#create a filter which will be boolean values if the condition is met\n",
    "filter=(an_array>15)\n",
    "filter\n"
   ]
  },
  {
   "cell_type": "markdown",
   "metadata": {},
   "source": [
    "Notice that the filter is also an array having same dimension as the given array."
   ]
  },
  {
   "cell_type": "code",
   "execution_count": 58,
   "metadata": {},
   "outputs": [
    {
     "name": "stdout",
     "output_type": "stream",
     "text": [
      "[21 22 31 32]\n"
     ]
    }
   ],
   "source": [
    "#now we can have an array which meets the condition.\n",
    "print(an_array[filter])"
   ]
  },
  {
   "cell_type": "code",
   "execution_count": 62,
   "metadata": {},
   "outputs": [
    {
     "data": {
      "text/plain": [
       "array([21, 22, 31, 32])"
      ]
     },
     "execution_count": 62,
     "metadata": {},
     "output_type": "execute_result"
    }
   ],
   "source": [
    "#for short we could just write\n",
    "an_array[an_array>15]\n"
   ]
  },
  {
   "cell_type": "code",
   "execution_count": 66,
   "metadata": {},
   "outputs": [
    {
     "name": "stdout",
     "output_type": "stream",
     "text": [
      "[[ 11 312]\n",
      " [ 21 322]\n",
      " [ 31 332]]\n"
     ]
    }
   ],
   "source": [
    "an_array[an_array%2==0]+=100\n",
    "print(an_array)\n"
   ]
  },
  {
   "cell_type": "code",
   "execution_count": null,
   "metadata": {},
   "outputs": [],
   "source": []
  }
 ],
 "metadata": {
  "kernelspec": {
   "display_name": "Python 3",
   "language": "python",
   "name": "python3"
  },
  "language_info": {
   "codemirror_mode": {
    "name": "ipython",
    "version": 3
   },
   "file_extension": ".py",
   "mimetype": "text/x-python",
   "name": "python",
   "nbconvert_exporter": "python",
   "pygments_lexer": "ipython3",
   "version": "3.6.4"
  }
 },
 "nbformat": 4,
 "nbformat_minor": 2
}
