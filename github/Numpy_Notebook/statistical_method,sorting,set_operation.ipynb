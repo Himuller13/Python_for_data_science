{
 "cells": [
  {
   "cell_type": "markdown",
   "metadata": {},
   "source": [
    "<p style=\"font-family: Arial;font-size:2.75em;color:#FF0000;font-style:bold\">\n",
    "<br>\n",
    "STASTICAL METHOD,SORTING & SET OPERATION\n",
    "</p>"
   ]
  },
  {
   "cell_type": "markdown",
   "metadata": {},
   "source": [
    "<p style=\"font-family: Arial;font-size:1.75em;color:#2462c0;font-style:bold\">\n",
    "<br>\n",
    "Basic Stastical operation\n",
    "</p>"
   ]
  },
  {
   "cell_type": "code",
   "execution_count": 1,
   "metadata": {},
   "outputs": [],
   "source": [
    "import numpy as np\n"
   ]
  },
  {
   "cell_type": "code",
   "execution_count": 4,
   "metadata": {},
   "outputs": [
    {
     "name": "stdout",
     "output_type": "stream",
     "text": [
      "[[-6.57352381 -8.96931181 -4.57075716  4.06483718]\n",
      " [ 7.72598522  4.89536031 -9.24424688  2.59029211]]\n"
     ]
    }
   ],
   "source": [
    "# setup a random 2x4 matrix\n",
    "arr=10* np.random.randn(2,4)\n",
    "print(arr)"
   ]
  },
  {
   "cell_type": "code",
   "execution_count": 5,
   "metadata": {},
   "outputs": [
    {
     "name": "stdout",
     "output_type": "stream",
     "text": [
      "-1.2601706055321493\n"
     ]
    }
   ],
   "source": [
    "# compute the mean for all elements\n",
    "print(arr.mean())\n"
   ]
  },
  {
   "cell_type": "code",
   "execution_count": 11,
   "metadata": {},
   "outputs": [
    {
     "name": "stdout",
     "output_type": "stream",
     "text": [
      "[-4.0121889   1.49184769]\n",
      "[ 0.57623071 -2.03697575 -6.90750202  3.32756465]\n"
     ]
    }
   ],
   "source": [
    "# compute the mean by row\n",
    "print(arr.mean(axis=1))\n",
    "\n",
    "#compute the mean by column\n",
    "print(arr.mean(axis=0))"
   ]
  },
  {
   "cell_type": "code",
   "execution_count": 8,
   "metadata": {},
   "outputs": [
    {
     "name": "stdout",
     "output_type": "stream",
     "text": [
      "-10.081364844257195\n"
     ]
    }
   ],
   "source": [
    "# sum of all elements\n",
    "print(arr.sum())"
   ]
  },
  {
   "cell_type": "code",
   "execution_count": 10,
   "metadata": {},
   "outputs": [
    {
     "name": "stdout",
     "output_type": "stream",
     "text": [
      "[ 0.57623071 -2.03697575 -6.90750202  3.32756465]\n"
     ]
    }
   ],
   "source": [
    "#compute the median by column\n",
    "print(np.median(arr,axis=0))"
   ]
  },
  {
   "cell_type": "markdown",
   "metadata": {},
   "source": [
    "<p style=\"font-family: Arial;font-size:1.75em;color:#2462c0;font-style:bold\">\n",
    "<br>\n",
    "Sorting\n",
    "</p>"
   ]
  },
  {
   "cell_type": "code",
   "execution_count": 13,
   "metadata": {},
   "outputs": [
    {
     "name": "stdout",
     "output_type": "stream",
     "text": [
      "[-0.01474284 -0.78620866 -1.0233173   0.69507625  1.05522636 -0.42816918\n",
      "  0.02700898 -0.10027416  1.99150007  1.58657747]\n"
     ]
    }
   ],
   "source": [
    "# create a 10 random elements array\n",
    "unsorted=np.random.randn(10)\n",
    "print(unsorted)"
   ]
  },
  {
   "cell_type": "code",
   "execution_count": 14,
   "metadata": {},
   "outputs": [
    {
     "name": "stdout",
     "output_type": "stream",
     "text": [
      "[-1.0233173  -0.78620866 -0.42816918 -0.10027416 -0.01474284  0.02700898\n",
      "  0.69507625  1.05522636  1.58657747  1.99150007]\n"
     ]
    }
   ],
   "source": [
    "#create copy and sort\n",
    "sorted=np.array(unsorted)\n",
    "sorted.sort()\n",
    "print(sorted)"
   ]
  },
  {
   "cell_type": "code",
   "execution_count": 17,
   "metadata": {},
   "outputs": [
    {
     "name": "stdout",
     "output_type": "stream",
     "text": [
      "[-1.0233173  -0.78620866 -0.42816918 -0.10027416 -0.01474284  0.02700898\n",
      "  0.69507625  1.05522636  1.58657747  1.99150007]\n"
     ]
    }
   ],
   "source": [
    "#inplace sorting\n",
    "unsorted.sort()\n",
    "print(unsorted)"
   ]
  },
  {
   "cell_type": "markdown",
   "metadata": {},
   "source": [
    "<p style=\"font-family: Arial;font-size:1.75em;color:#2462c0;font-style:bold\">\n",
    "<br>\n",
    "Finding unique elements\n",
    "</p>"
   ]
  },
  {
   "cell_type": "code",
   "execution_count": 18,
   "metadata": {},
   "outputs": [
    {
     "name": "stdout",
     "output_type": "stream",
     "text": [
      "[1 2 3 4 5]\n"
     ]
    }
   ],
   "source": [
    "arr=np.array([1,3,2,4,2,3,4,5,5,3,2,1])\n",
    "print(np.unique(arr))"
   ]
  },
  {
   "cell_type": "markdown",
   "metadata": {},
   "source": [
    "<p style=\"font-family: Arial;font-size:1.75em;color:#2462c0;font-style:bold\">\n",
    "<br>\n",
    "Set operation with np.array data type\n",
    "</p>"
   ]
  },
  {
   "cell_type": "code",
   "execution_count": 29,
   "metadata": {},
   "outputs": [
    {
     "name": "stdout",
     "output_type": "stream",
     "text": [
      "['desk' 'chair' 'bulb'] ['bottle' 'chair' 'desk' 'bulb']\n"
     ]
    }
   ],
   "source": [
    "s1=np.array(['desk','chair','bulb'])\n",
    "s2=np.array(['bottle','chair','desk','bulb'])\n",
    "print(s1,s2)"
   ]
  },
  {
   "cell_type": "code",
   "execution_count": 31,
   "metadata": {},
   "outputs": [
    {
     "name": "stdout",
     "output_type": "stream",
     "text": [
      "['bulb' 'chair' 'desk']\n",
      "['bottle' 'bulb' 'chair' 'desk']\n",
      "[]\n",
      "[ True  True  True]\n"
     ]
    }
   ],
   "source": [
    "print(np.intersect1d(s1,s2))  #intersection of 2 sets\n",
    "print(np.union1d(s1,s2))      #union of two sets\n",
    "print(np.setdiff1d(s1,s2))    #which element of s1 is not in s2\n",
    "print(np.in1d(s1,s2))         #which element of s1 is in s2\n"
   ]
  },
  {
   "cell_type": "code",
   "execution_count": null,
   "metadata": {},
   "outputs": [],
   "source": []
  }
 ],
 "metadata": {
  "kernelspec": {
   "display_name": "Python 3",
   "language": "python",
   "name": "python3"
  },
  "language_info": {
   "codemirror_mode": {
    "name": "ipython",
    "version": 3
   },
   "file_extension": ".py",
   "mimetype": "text/x-python",
   "name": "python",
   "nbconvert_exporter": "python",
   "pygments_lexer": "ipython3",
   "version": "3.6.4"
  }
 },
 "nbformat": 4,
 "nbformat_minor": 2
}
