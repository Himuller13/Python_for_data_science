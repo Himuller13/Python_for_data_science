{
 "cells": [
  {
   "cell_type": "markdown",
   "metadata": {},
   "source": [
    "# Speedtest : ndarray vs list"
   ]
  },
  {
   "cell_type": "markdown",
   "metadata": {},
   "source": [
    "At first parameters have to be set for speed test. We are going to test time to compute the time taken to sum elements in an ndarray vs list."
   ]
  },
  {
   "cell_type": "code",
   "execution_count": 32,
   "metadata": {},
   "outputs": [
    {
     "name": "stdout",
     "output_type": "stream",
     "text": [
      "[     0      1      2 ... 999997 999998 999999]\n",
      "\n",
      "<class 'numpy.ndarray'>\n",
      "\n",
      "\n",
      "range(0, 1000000)\n",
      "\n",
      "<class 'range'>\n",
      "\n",
      "\n",
      "numpy: 0.001223\n",
      "list:  0.031609\n"
     ]
    }
   ],
   "source": [
    "from numpy import arange\n",
    "from timeit import Timer\n",
    "\n",
    "size = 1000000\n",
    "timeits = 1000\n",
    "\n",
    "nd_array = arange(size)   #create an nd_array with elements having values 0,1,2,3,...,size-1\n",
    "print(nd_array)\n",
    "print()\n",
    "print(type(nd_array))\n",
    "print()\n",
    "print()\n",
    "a_list = range(size)      #create a list with elements having values 0,1,2,3,...,size-1\n",
    "print(a_list)\n",
    "print()\n",
    "print(type(a_list))\n",
    "print()\n",
    "print()\n",
    "\n",
    "#timer takes operation as its arguments\n",
    "t_numpy = Timer(\"nd_array.sum()\", \"from __main__ import nd_array\")\n",
    "t_list = Timer(\"sum(a_list)\", \"from __main__ import a_list\")\n",
    "print(\"numpy: %f\" % (t_numpy.timeit(timeits)/timeits,))\n",
    "print(\"list:  %f\" % (t_list.timeit(timeits)/timeits,))"
   ]
  },
  {
   "cell_type": "markdown",
   "metadata": {},
   "source": [
    "It is evident that nd_array is way faster for operations than the lists.\n",
    "As the data increases the time difference also increases.So,it is better to use nd_array for huge data sets."
   ]
  }
 ],
 "metadata": {
  "kernelspec": {
   "display_name": "Python 3",
   "language": "python",
   "name": "python3"
  },
  "language_info": {
   "codemirror_mode": {
    "name": "ipython",
    "version": 3
   },
   "file_extension": ".py",
   "mimetype": "text/x-python",
   "name": "python",
   "nbconvert_exporter": "python",
   "pygments_lexer": "ipython3",
   "version": "3.6.4"
  }
 },
 "nbformat": 4,
 "nbformat_minor": 2
}
